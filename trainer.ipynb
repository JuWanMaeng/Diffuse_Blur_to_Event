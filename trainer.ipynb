{
 "cells": [
  {
   "cell_type": "code",
   "execution_count": 1,
   "metadata": {},
   "outputs": [
    {
     "name": "stdout",
     "output_type": "stream",
     "text": [
      "dict_keys(['optimizer', 'lr_scheduler', 'config', 'effective_iter', 'epoch', 'n_batch_in_epoch', 'best_metric', 'in_evaluation', 'global_seed_sequence'])\n"
     ]
    }
   ],
   "source": [
    "import torch\n",
    "\n",
    "ckpt = torch.load(\"output/NAFNet_VAE/checkpoint/latest/trainer.ckpt\", map_location=\"cpu\")\n",
    "\n",
    "# 키 확인\n",
    "print(ckpt.keys())\n",
    "\n",
    "# 모델 파라미터 확인\n",
    "if 'state_dict' in ckpt:\n",
    "    print(ckpt['state_dict'].keys())\n"
   ]
  },
  {
   "cell_type": "code",
   "execution_count": null,
   "metadata": {},
   "outputs": [],
   "source": []
  }
 ],
 "metadata": {
  "kernelspec": {
   "display_name": "b2f",
   "language": "python",
   "name": "python3"
  },
  "language_info": {
   "codemirror_mode": {
    "name": "ipython",
    "version": 3
   },
   "file_extension": ".py",
   "mimetype": "text/x-python",
   "name": "python",
   "nbconvert_exporter": "python",
   "pygments_lexer": "ipython3",
   "version": "3.8.0"
  }
 },
 "nbformat": 4,
 "nbformat_minor": 2
}
