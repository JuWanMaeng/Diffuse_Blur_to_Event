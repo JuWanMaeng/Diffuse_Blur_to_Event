{
 "cells": [
  {
   "cell_type": "code",
   "execution_count": 1,
   "metadata": {},
   "outputs": [],
   "source": [
    "import os\n",
    "import shutil\n",
    "\n",
    "# 1. txt 파일 읽기\n",
    "txt_path = '/workspace/Marigold/dataset/paths/HIDE_test.txt'  # 여기에 네 txt 파일 경로를 넣어\n",
    "with open(txt_path, 'r') as f:\n",
    "    lines = f.read().splitlines()\n",
    "\n",
    "# 2. 경로 설정\n",
    "old_root = '/workspace/data/HIDE_dataset/test'\n",
    "new_root = '/workspace/data/HIDE_dataset/test_NAFVAE'\n",
    "\n",
    "# 3. 복사 작업\n",
    "for old_path in lines:\n",
    "    # old_path 예시: /workspace/data/HIDE_dataset/test/test-close-ups/100fromGOPR0955.png\n",
    "    relative_path = os.path.relpath(old_path, old_root)  # test-close-ups/100fromGOPR0955.png\n",
    "    new_path = os.path.join(new_root, relative_path)     # /workspace/data/HIDE_dataset/test_NAFVAE/test-close-ups/100fromGOPR0955.png\n",
    "\n",
    "    os.makedirs(os.path.dirname(new_path), exist_ok=True)  # 새 폴더 만들기\n",
    "    shutil.copy2(old_path, new_path)  # 파일 복사\n"
   ]
  },
  {
   "cell_type": "code",
   "execution_count": null,
   "metadata": {},
   "outputs": [],
   "source": []
  }
 ],
 "metadata": {
  "kernelspec": {
   "display_name": "b2f",
   "language": "python",
   "name": "python3"
  },
  "language_info": {
   "codemirror_mode": {
    "name": "ipython",
    "version": 3
   },
   "file_extension": ".py",
   "mimetype": "text/x-python",
   "name": "python",
   "nbconvert_exporter": "python",
   "pygments_lexer": "ipython3",
   "version": "3.8.0"
  }
 },
 "nbformat": 4,
 "nbformat_minor": 2
}
