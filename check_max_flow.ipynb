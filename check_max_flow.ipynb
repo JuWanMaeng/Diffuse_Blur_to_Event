{
 "cells": [
  {
   "cell_type": "markdown",
   "metadata": {},
   "source": [
    "# Check max flow = 454.54526   (Monkaa = 23540.129)"
   ]
  },
  {
   "cell_type": "code",
   "execution_count": null,
   "metadata": {},
   "outputs": [],
   "source": [
    "import os\n",
    "from ptlflow.utils.flow_utils import flow_read, flow_to_rgb\n",
    "from ptlflow.utils.external.flowpy import replace_nans\n",
    "import numpy as np\n",
    "from tqdm import tqdm\n",
    "import matplotlib.pyplot as plt\n",
    "from PIL import Image\n"
   ]
  },
  {
   "cell_type": "markdown",
   "metadata": {},
   "source": [
    "# Gopro"
   ]
  },
  {
   "cell_type": "code",
   "execution_count": null,
   "metadata": {},
   "outputs": [],
   "source": [
    "import os\n",
    "import numpy as np\n",
    "from tqdm import tqdm\n",
    "import matplotlib.pyplot as plt\n",
    "\n",
    "# Assuming flow_read and replace_nans are defined functions\n",
    "# from your existing codebase, e.g.,\n",
    "# from your_module import flow_read, replace_nans\n",
    "\n",
    "data_path = '/workspace/data/Gopro_my/train'\n",
    "data_folder = os.listdir(data_path)\n",
    "data_folder.sort()\n",
    "master_max = 0\n",
    "flow_max_radius_list = []\n",
    "\n",
    "for scene in tqdm(data_folder, ncols=80):\n",
    "    flow_path = os.path.join(data_path, scene, 'flow/flows', f'{scene}.flo')\n",
    "    flow = flow_read(flow_path)\n",
    "    complex_flow = flow[..., 0] + 1j * flow[..., 1]\n",
    "    complex_flow, nan_mask = replace_nans(complex_flow)\n",
    "    radius, angle = np.abs(complex_flow), np.angle(complex_flow)\n",
    "    flow_max_radius = np.max(radius)\n",
    "    flow_max_radius_list.append(flow_max_radius)\n",
    "    if flow_max_radius > master_max:\n",
    "        master_max = flow_max_radius\n",
    "    if flow_max_radius > 200:\n",
    "        print(scene)\n",
    "\n",
    "\n",
    "print(master_max)\n",
    "\n",
    "# Plotting the histogram of flow_max_radius\n",
    "plt.hist(flow_max_radius_list, bins=50, alpha=0.75, color='red', edgecolor='black')\n",
    "plt.title('Distribution of Flow Max Radius')\n",
    "plt.xlabel('Flow Max Radius')\n",
    "plt.ylabel('nums')\n",
    "plt.grid(True)\n",
    "plt.show()\n"
   ]
  },
  {
   "cell_type": "markdown",
   "metadata": {},
   "source": [
    "# Gopro"
   ]
  },
  {
   "cell_type": "code",
   "execution_count": null,
   "metadata": {},
   "outputs": [],
   "source": [
    "import os,glob\n",
    "import matplotlib.pyplot as plt\n",
    "from PIL import Image\n",
    "import numpy as np\n",
    "import cv2"
   ]
  },
  {
   "cell_type": "code",
   "execution_count": null,
   "metadata": {},
   "outputs": [],
   "source": [
    "gopro_path = '/workspace/data/Gopro_my/test'\n",
    "gopro_folder = os.listdir(gopro_path)\n",
    "gopro_folder.sort()\n",
    "\n",
    "for scene in gopro_folder[751:]:\n",
    "    flow_path = os.path.join(gopro_path,scene,'flow/flows',f'{scene}.flo')\n",
    "    flow = flow_read(flow_path)\n",
    "    flow_rgb = flow_to_rgb(flow,flow_max_radius=150)\n",
    "    flow_rgb_2 = flow_to_rgb(flow)\n",
    "    blur_img = os.path.join(gopro_path,scene,'blur',f'{scene}.png')\n",
    "    blur = Image.open(blur_img)\n",
    "    plt.imshow(flow_rgb)\n",
    "    plt.show()\n",
    "    plt.imshow(flow_rgb_2)\n",
    "    plt.show()\n",
    "    plt.imshow(blur)\n",
    "    plt.show()\n",
    "\n",
    "    complex_flow = flow[..., 0] + 1j * flow[..., 1]\n",
    "    complex_flow, nan_mask = replace_nans(complex_flow)\n",
    "    radius, angle = np.abs(complex_flow), np.angle(complex_flow)\n",
    "    flow_max_radius = np.max(radius)\n",
    "    print(flow_max_radius)\n",
    "    break"
   ]
  },
  {
   "cell_type": "code",
   "execution_count": null,
   "metadata": {},
   "outputs": [],
   "source": [
    "gopro_path = '/workspace/data/vimeo/train'\n",
    "gopro_folder = os.listdir(gopro_path)\n",
    "gopro_folder.sort()\n",
    "\n",
    "for scene in gopro_folder[92700:]:\n",
    "    flow_path = os.path.join(gopro_path,scene,'flow/flows',f'{scene}.flo')\n",
    "    flow = flow_read(flow_path)\n",
    "    flow_rgb = flow_to_rgb(flow,flow_max_radius=150)\n",
    "    flow_rgb_2 = flow_to_rgb(flow)\n",
    "    blur_img = os.path.join(gopro_path,scene,'blur',f'{scene}.png')\n",
    "    blur = Image.open(blur_img)\n",
    "    plt.imshow(flow_rgb)\n",
    "    plt.show()\n",
    "    plt.imshow(flow_rgb_2)\n",
    "    plt.show()\n",
    "    plt.imshow(blur)\n",
    "    plt.show()\n",
    "\n",
    "    complex_flow = flow[..., 0] + 1j * flow[..., 1]\n",
    "    complex_flow, nan_mask = replace_nans(complex_flow)\n",
    "    radius, angle = np.abs(complex_flow), np.angle(complex_flow)\n",
    "    flow_max_radius = np.max(radius)\n",
    "    print(flow_max_radius)\n",
    "    break"
   ]
  },
  {
   "cell_type": "code",
   "execution_count": null,
   "metadata": {},
   "outputs": [],
   "source": [
    "gopro_path = '/workspace/data/vimeo/train'\n",
    "gopro_folder = os.listdir(gopro_path)\n",
    "gopro_folder.sort()\n",
    "\n",
    "for scene in gopro_folder[96700:]:\n",
    "    flow_path = os.path.join(gopro_path,scene,'flow/flows',f'{scene}.flo')\n",
    "    flow = flow_read(flow_path)\n",
    "    flow_rgb = flow_to_rgb(flow,flow_max_radius=150)\n",
    "    flow_rgb_2 = flow_to_rgb(flow)\n",
    "    blur_img = os.path.join(gopro_path,scene,'blur',f'{scene}.png')\n",
    "    blur = Image.open(blur_img)\n",
    "    plt.imshow(flow_rgb)\n",
    "    plt.show()\n",
    "    plt.imshow(flow_rgb_2)\n",
    "    plt.show()\n",
    "    plt.imshow(blur)\n",
    "    plt.show()\n",
    "\n",
    "    complex_flow = flow[..., 0] + 1j * flow[..., 1]\n",
    "    complex_flow, nan_mask = replace_nans(complex_flow)\n",
    "    radius, angle = np.abs(complex_flow), np.angle(complex_flow)\n",
    "    flow_max_radius = np.max(radius)\n",
    "    print(flow_max_radius)\n",
    "    break"
   ]
  },
  {
   "cell_type": "code",
   "execution_count": null,
   "metadata": {},
   "outputs": [],
   "source": []
  }
 ],
 "metadata": {
  "kernelspec": {
   "display_name": "b2f",
   "language": "python",
   "name": "python3"
  },
  "language_info": {
   "codemirror_mode": {
    "name": "ipython",
    "version": 3
   },
   "file_extension": ".py",
   "mimetype": "text/x-python",
   "name": "python",
   "nbconvert_exporter": "python",
   "pygments_lexer": "ipython3",
   "version": "3.8.0"
  }
 },
 "nbformat": 4,
 "nbformat_minor": 2
}
